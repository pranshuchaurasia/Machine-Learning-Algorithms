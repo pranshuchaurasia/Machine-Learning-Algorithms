{
 "cells": [
  {
   "cell_type": "code",
   "execution_count": 291,
   "id": "18d7abc3",
   "metadata": {},
   "outputs": [],
   "source": [
    "import pandas as pd\n",
    "import numpy as np\n",
    "import seaborn as sns\n",
    "import matplotlib.pyplot as plt\n",
    "%matplotlib inline\n",
    "from sklearn.model_selection import train_test_split\n",
    "from sklearn.linear_model import LinearRegression, Ridge, Lasso"
   ]
  },
  {
   "cell_type": "code",
   "execution_count": 292,
   "id": "35fec6da",
   "metadata": {},
   "outputs": [],
   "source": [
    "filename=\"Algerian_forest_fires_dataset_UPDATE.csv\"\n",
    "df = pd.read_csv(filename, header=1, skiprows=[2])"
   ]
  },
  {
   "cell_type": "code",
   "execution_count": 293,
   "id": "d358f744",
   "metadata": {},
   "outputs": [
    {
     "data": {
      "text/html": [
       "<div>\n",
       "<style scoped>\n",
       "    .dataframe tbody tr th:only-of-type {\n",
       "        vertical-align: middle;\n",
       "    }\n",
       "\n",
       "    .dataframe tbody tr th {\n",
       "        vertical-align: top;\n",
       "    }\n",
       "\n",
       "    .dataframe thead th {\n",
       "        text-align: right;\n",
       "    }\n",
       "</style>\n",
       "<table border=\"1\" class=\"dataframe\">\n",
       "  <thead>\n",
       "    <tr style=\"text-align: right;\">\n",
       "      <th></th>\n",
       "      <th>day</th>\n",
       "      <th>month</th>\n",
       "      <th>year</th>\n",
       "      <th>Temperature</th>\n",
       "      <th>RH</th>\n",
       "      <th>Ws</th>\n",
       "      <th>Rain</th>\n",
       "      <th>FFMC</th>\n",
       "      <th>DMC</th>\n",
       "      <th>DC</th>\n",
       "      <th>ISI</th>\n",
       "      <th>BUI</th>\n",
       "      <th>FWI</th>\n",
       "      <th>Classes</th>\n",
       "    </tr>\n",
       "  </thead>\n",
       "  <tbody>\n",
       "    <tr>\n",
       "      <th>0</th>\n",
       "      <td>02</td>\n",
       "      <td>06</td>\n",
       "      <td>2012</td>\n",
       "      <td>29</td>\n",
       "      <td>61</td>\n",
       "      <td>13</td>\n",
       "      <td>1.3</td>\n",
       "      <td>64.4</td>\n",
       "      <td>4.1</td>\n",
       "      <td>7.6</td>\n",
       "      <td>1</td>\n",
       "      <td>3.9</td>\n",
       "      <td>0.4</td>\n",
       "      <td>not fire</td>\n",
       "    </tr>\n",
       "    <tr>\n",
       "      <th>1</th>\n",
       "      <td>03</td>\n",
       "      <td>06</td>\n",
       "      <td>2012</td>\n",
       "      <td>26</td>\n",
       "      <td>82</td>\n",
       "      <td>22</td>\n",
       "      <td>13.1</td>\n",
       "      <td>47.1</td>\n",
       "      <td>2.5</td>\n",
       "      <td>7.1</td>\n",
       "      <td>0.3</td>\n",
       "      <td>2.7</td>\n",
       "      <td>0.1</td>\n",
       "      <td>not fire</td>\n",
       "    </tr>\n",
       "    <tr>\n",
       "      <th>2</th>\n",
       "      <td>04</td>\n",
       "      <td>06</td>\n",
       "      <td>2012</td>\n",
       "      <td>25</td>\n",
       "      <td>89</td>\n",
       "      <td>13</td>\n",
       "      <td>2.5</td>\n",
       "      <td>28.6</td>\n",
       "      <td>1.3</td>\n",
       "      <td>6.9</td>\n",
       "      <td>0</td>\n",
       "      <td>1.7</td>\n",
       "      <td>0</td>\n",
       "      <td>not fire</td>\n",
       "    </tr>\n",
       "    <tr>\n",
       "      <th>3</th>\n",
       "      <td>05</td>\n",
       "      <td>06</td>\n",
       "      <td>2012</td>\n",
       "      <td>27</td>\n",
       "      <td>77</td>\n",
       "      <td>16</td>\n",
       "      <td>0</td>\n",
       "      <td>64.8</td>\n",
       "      <td>3</td>\n",
       "      <td>14.2</td>\n",
       "      <td>1.2</td>\n",
       "      <td>3.9</td>\n",
       "      <td>0.5</td>\n",
       "      <td>not fire</td>\n",
       "    </tr>\n",
       "    <tr>\n",
       "      <th>4</th>\n",
       "      <td>06</td>\n",
       "      <td>06</td>\n",
       "      <td>2012</td>\n",
       "      <td>31</td>\n",
       "      <td>67</td>\n",
       "      <td>14</td>\n",
       "      <td>0</td>\n",
       "      <td>82.6</td>\n",
       "      <td>5.8</td>\n",
       "      <td>22.2</td>\n",
       "      <td>3.1</td>\n",
       "      <td>7</td>\n",
       "      <td>2.5</td>\n",
       "      <td>fire</td>\n",
       "    </tr>\n",
       "  </tbody>\n",
       "</table>\n",
       "</div>"
      ],
      "text/plain": [
       "  day month  year Temperature  RH  Ws Rain   FFMC  DMC    DC  ISI  BUI  FWI  \\\n",
       "0  02    06  2012          29  61  13   1.3  64.4  4.1   7.6    1  3.9  0.4   \n",
       "1  03    06  2012          26  82  22  13.1  47.1  2.5   7.1  0.3  2.7  0.1   \n",
       "2  04    06  2012          25  89  13   2.5  28.6  1.3   6.9    0  1.7    0   \n",
       "3  05    06  2012          27  77  16     0  64.8    3  14.2  1.2  3.9  0.5   \n",
       "4  06    06  2012          31  67  14     0  82.6  5.8  22.2  3.1    7  2.5   \n",
       "\n",
       "     Classes    \n",
       "0  not fire     \n",
       "1  not fire     \n",
       "2  not fire     \n",
       "3  not fire     \n",
       "4      fire     "
      ]
     },
     "execution_count": 293,
     "metadata": {},
     "output_type": "execute_result"
    }
   ],
   "source": [
    "df.head()"
   ]
  },
  {
   "cell_type": "markdown",
   "id": "59606a1f",
   "metadata": {},
   "source": [
    "Attribute Information:\n",
    "\n",
    "1. Date : (DD/MM/YYYY) Day, month ('june' to 'september'), year (2012)\n",
    "Weather data observations\n",
    "2. Temp : temperature noon (temperature max) in Celsius degrees: 22 to 42\n",
    "3. RH : Relative Humidity in %: 21 to 90\n",
    "4. Ws :Wind speed in km/h: 6 to 29\n",
    "5. Rain: total day in mm: 0 to 16.8\n",
    "FWI Components\n",
    "6. Fine Fuel Moisture Code (FFMC) index from the FWI system: 28.6 to 92.5\n",
    "7. Duff Moisture Code (DMC) index from the FWI system: 1.1 to 65.9\n",
    "8. Drought Code (DC) index from the FWI system: 7 to 220.4\n",
    "9. Initial Spread Index (ISI) index from the FWI system: 0 to 18.5\n",
    "10. Buildup Index (BUI) index from the FWI system: 1.1 to 68\n",
    "11. Fire Weather Index (FWI) Index: 0 to 31.1\n",
    "12. Classes: two classes, namely â€œFireâ€ and â€œnot Fireâ€\n"
   ]
  },
  {
   "cell_type": "code",
   "execution_count": 294,
   "id": "8e86856b",
   "metadata": {},
   "outputs": [
    {
     "data": {
      "text/plain": [
       "(245, 14)"
      ]
     },
     "execution_count": 294,
     "metadata": {},
     "output_type": "execute_result"
    }
   ],
   "source": [
    "df.shape"
   ]
  },
  {
   "cell_type": "code",
   "execution_count": 295,
   "id": "639ea8ab",
   "metadata": {},
   "outputs": [
    {
     "name": "stdout",
     "output_type": "stream",
     "text": [
      "<class 'pandas.core.frame.DataFrame'>\n",
      "RangeIndex: 245 entries, 0 to 244\n",
      "Data columns (total 14 columns):\n",
      " #   Column       Non-Null Count  Dtype \n",
      "---  ------       --------------  ----- \n",
      " 0   day          245 non-null    object\n",
      " 1   month        244 non-null    object\n",
      " 2   year         244 non-null    object\n",
      " 3   Temperature  244 non-null    object\n",
      " 4    RH          244 non-null    object\n",
      " 5    Ws          244 non-null    object\n",
      " 6   Rain         244 non-null    object\n",
      " 7   FFMC         244 non-null    object\n",
      " 8   DMC          244 non-null    object\n",
      " 9   DC           244 non-null    object\n",
      " 10  ISI          244 non-null    object\n",
      " 11  BUI          244 non-null    object\n",
      " 12  FWI          244 non-null    object\n",
      " 13  Classes      243 non-null    object\n",
      "dtypes: object(14)\n",
      "memory usage: 26.9+ KB\n"
     ]
    }
   ],
   "source": [
    "df.info()"
   ]
  },
  {
   "cell_type": "code",
   "execution_count": 296,
   "id": "4f173b23",
   "metadata": {},
   "outputs": [],
   "source": [
    "df.drop_duplicates(subset=df.columns[1:], inplace=True)"
   ]
  },
  {
   "cell_type": "code",
   "execution_count": 297,
   "id": "87e2579a",
   "metadata": {},
   "outputs": [
    {
     "data": {
      "text/html": [
       "<div>\n",
       "<style scoped>\n",
       "    .dataframe tbody tr th:only-of-type {\n",
       "        vertical-align: middle;\n",
       "    }\n",
       "\n",
       "    .dataframe tbody tr th {\n",
       "        vertical-align: top;\n",
       "    }\n",
       "\n",
       "    .dataframe thead th {\n",
       "        text-align: right;\n",
       "    }\n",
       "</style>\n",
       "<table border=\"1\" class=\"dataframe\">\n",
       "  <thead>\n",
       "    <tr style=\"text-align: right;\">\n",
       "      <th></th>\n",
       "      <th>day</th>\n",
       "      <th>month</th>\n",
       "      <th>year</th>\n",
       "      <th>Temperature</th>\n",
       "      <th>RH</th>\n",
       "      <th>Ws</th>\n",
       "      <th>Rain</th>\n",
       "      <th>FFMC</th>\n",
       "      <th>DMC</th>\n",
       "      <th>DC</th>\n",
       "      <th>ISI</th>\n",
       "      <th>BUI</th>\n",
       "      <th>FWI</th>\n",
       "      <th>Classes</th>\n",
       "    </tr>\n",
       "  </thead>\n",
       "  <tbody>\n",
       "    <tr>\n",
       "      <th>0</th>\n",
       "      <td>02</td>\n",
       "      <td>06</td>\n",
       "      <td>2012</td>\n",
       "      <td>29</td>\n",
       "      <td>61</td>\n",
       "      <td>13</td>\n",
       "      <td>1.3</td>\n",
       "      <td>64.4</td>\n",
       "      <td>4.1</td>\n",
       "      <td>7.6</td>\n",
       "      <td>1</td>\n",
       "      <td>3.9</td>\n",
       "      <td>0.4</td>\n",
       "      <td>not fire</td>\n",
       "    </tr>\n",
       "    <tr>\n",
       "      <th>1</th>\n",
       "      <td>03</td>\n",
       "      <td>06</td>\n",
       "      <td>2012</td>\n",
       "      <td>26</td>\n",
       "      <td>82</td>\n",
       "      <td>22</td>\n",
       "      <td>13.1</td>\n",
       "      <td>47.1</td>\n",
       "      <td>2.5</td>\n",
       "      <td>7.1</td>\n",
       "      <td>0.3</td>\n",
       "      <td>2.7</td>\n",
       "      <td>0.1</td>\n",
       "      <td>not fire</td>\n",
       "    </tr>\n",
       "    <tr>\n",
       "      <th>2</th>\n",
       "      <td>04</td>\n",
       "      <td>06</td>\n",
       "      <td>2012</td>\n",
       "      <td>25</td>\n",
       "      <td>89</td>\n",
       "      <td>13</td>\n",
       "      <td>2.5</td>\n",
       "      <td>28.6</td>\n",
       "      <td>1.3</td>\n",
       "      <td>6.9</td>\n",
       "      <td>0</td>\n",
       "      <td>1.7</td>\n",
       "      <td>0</td>\n",
       "      <td>not fire</td>\n",
       "    </tr>\n",
       "    <tr>\n",
       "      <th>3</th>\n",
       "      <td>05</td>\n",
       "      <td>06</td>\n",
       "      <td>2012</td>\n",
       "      <td>27</td>\n",
       "      <td>77</td>\n",
       "      <td>16</td>\n",
       "      <td>0</td>\n",
       "      <td>64.8</td>\n",
       "      <td>3</td>\n",
       "      <td>14.2</td>\n",
       "      <td>1.2</td>\n",
       "      <td>3.9</td>\n",
       "      <td>0.5</td>\n",
       "      <td>not fire</td>\n",
       "    </tr>\n",
       "    <tr>\n",
       "      <th>4</th>\n",
       "      <td>06</td>\n",
       "      <td>06</td>\n",
       "      <td>2012</td>\n",
       "      <td>31</td>\n",
       "      <td>67</td>\n",
       "      <td>14</td>\n",
       "      <td>0</td>\n",
       "      <td>82.6</td>\n",
       "      <td>5.8</td>\n",
       "      <td>22.2</td>\n",
       "      <td>3.1</td>\n",
       "      <td>7</td>\n",
       "      <td>2.5</td>\n",
       "      <td>fire</td>\n",
       "    </tr>\n",
       "  </tbody>\n",
       "</table>\n",
       "</div>"
      ],
      "text/plain": [
       "  day month  year Temperature  RH  Ws Rain   FFMC  DMC    DC  ISI  BUI  FWI  \\\n",
       "0  02    06  2012          29  61  13   1.3  64.4  4.1   7.6    1  3.9  0.4   \n",
       "1  03    06  2012          26  82  22  13.1  47.1  2.5   7.1  0.3  2.7  0.1   \n",
       "2  04    06  2012          25  89  13   2.5  28.6  1.3   6.9    0  1.7    0   \n",
       "3  05    06  2012          27  77  16     0  64.8    3  14.2  1.2  3.9  0.5   \n",
       "4  06    06  2012          31  67  14     0  82.6  5.8  22.2  3.1    7  2.5   \n",
       "\n",
       "     Classes    \n",
       "0  not fire     \n",
       "1  not fire     \n",
       "2  not fire     \n",
       "3  not fire     \n",
       "4      fire     "
      ]
     },
     "execution_count": 297,
     "metadata": {},
     "output_type": "execute_result"
    }
   ],
   "source": [
    "df.head()"
   ]
  },
  {
   "cell_type": "code",
   "execution_count": 298,
   "id": "b88d1af6",
   "metadata": {},
   "outputs": [
    {
     "data": {
      "text/html": [
       "<div>\n",
       "<style scoped>\n",
       "    .dataframe tbody tr th:only-of-type {\n",
       "        vertical-align: middle;\n",
       "    }\n",
       "\n",
       "    .dataframe tbody tr th {\n",
       "        vertical-align: top;\n",
       "    }\n",
       "\n",
       "    .dataframe thead th {\n",
       "        text-align: right;\n",
       "    }\n",
       "</style>\n",
       "<table border=\"1\" class=\"dataframe\">\n",
       "  <thead>\n",
       "    <tr style=\"text-align: right;\">\n",
       "      <th></th>\n",
       "      <th>day</th>\n",
       "      <th>month</th>\n",
       "      <th>year</th>\n",
       "      <th>Temperature</th>\n",
       "      <th>RH</th>\n",
       "      <th>Ws</th>\n",
       "      <th>Rain</th>\n",
       "      <th>FFMC</th>\n",
       "      <th>DMC</th>\n",
       "      <th>DC</th>\n",
       "      <th>ISI</th>\n",
       "      <th>BUI</th>\n",
       "      <th>FWI</th>\n",
       "      <th>Classes</th>\n",
       "    </tr>\n",
       "  </thead>\n",
       "  <tbody>\n",
       "    <tr>\n",
       "      <th>0</th>\n",
       "      <td>02</td>\n",
       "      <td>06</td>\n",
       "      <td>2012</td>\n",
       "      <td>29</td>\n",
       "      <td>61</td>\n",
       "      <td>13</td>\n",
       "      <td>1.3</td>\n",
       "      <td>64.4</td>\n",
       "      <td>4.1</td>\n",
       "      <td>7.6</td>\n",
       "      <td>1</td>\n",
       "      <td>3.9</td>\n",
       "      <td>0.4</td>\n",
       "      <td>not fire</td>\n",
       "    </tr>\n",
       "    <tr>\n",
       "      <th>1</th>\n",
       "      <td>03</td>\n",
       "      <td>06</td>\n",
       "      <td>2012</td>\n",
       "      <td>26</td>\n",
       "      <td>82</td>\n",
       "      <td>22</td>\n",
       "      <td>13.1</td>\n",
       "      <td>47.1</td>\n",
       "      <td>2.5</td>\n",
       "      <td>7.1</td>\n",
       "      <td>0.3</td>\n",
       "      <td>2.7</td>\n",
       "      <td>0.1</td>\n",
       "      <td>not fire</td>\n",
       "    </tr>\n",
       "    <tr>\n",
       "      <th>2</th>\n",
       "      <td>04</td>\n",
       "      <td>06</td>\n",
       "      <td>2012</td>\n",
       "      <td>25</td>\n",
       "      <td>89</td>\n",
       "      <td>13</td>\n",
       "      <td>2.5</td>\n",
       "      <td>28.6</td>\n",
       "      <td>1.3</td>\n",
       "      <td>6.9</td>\n",
       "      <td>0</td>\n",
       "      <td>1.7</td>\n",
       "      <td>0</td>\n",
       "      <td>not fire</td>\n",
       "    </tr>\n",
       "    <tr>\n",
       "      <th>3</th>\n",
       "      <td>05</td>\n",
       "      <td>06</td>\n",
       "      <td>2012</td>\n",
       "      <td>27</td>\n",
       "      <td>77</td>\n",
       "      <td>16</td>\n",
       "      <td>0</td>\n",
       "      <td>64.8</td>\n",
       "      <td>3</td>\n",
       "      <td>14.2</td>\n",
       "      <td>1.2</td>\n",
       "      <td>3.9</td>\n",
       "      <td>0.5</td>\n",
       "      <td>not fire</td>\n",
       "    </tr>\n",
       "    <tr>\n",
       "      <th>4</th>\n",
       "      <td>06</td>\n",
       "      <td>06</td>\n",
       "      <td>2012</td>\n",
       "      <td>31</td>\n",
       "      <td>67</td>\n",
       "      <td>14</td>\n",
       "      <td>0</td>\n",
       "      <td>82.6</td>\n",
       "      <td>5.8</td>\n",
       "      <td>22.2</td>\n",
       "      <td>3.1</td>\n",
       "      <td>7</td>\n",
       "      <td>2.5</td>\n",
       "      <td>fire</td>\n",
       "    </tr>\n",
       "  </tbody>\n",
       "</table>\n",
       "</div>"
      ],
      "text/plain": [
       "  day month  year Temperature  RH  Ws Rain   FFMC  DMC    DC  ISI  BUI  FWI  \\\n",
       "0  02    06  2012          29  61  13   1.3  64.4  4.1   7.6    1  3.9  0.4   \n",
       "1  03    06  2012          26  82  22  13.1  47.1  2.5   7.1  0.3  2.7  0.1   \n",
       "2  04    06  2012          25  89  13   2.5  28.6  1.3   6.9    0  1.7    0   \n",
       "3  05    06  2012          27  77  16     0  64.8    3  14.2  1.2  3.9  0.5   \n",
       "4  06    06  2012          31  67  14     0  82.6  5.8  22.2  3.1    7  2.5   \n",
       "\n",
       "     Classes    \n",
       "0  not fire     \n",
       "1  not fire     \n",
       "2  not fire     \n",
       "3  not fire     \n",
       "4      fire     "
      ]
     },
     "execution_count": 298,
     "metadata": {},
     "output_type": "execute_result"
    }
   ],
   "source": [
    "df.head()"
   ]
  },
  {
   "cell_type": "code",
   "execution_count": 299,
   "id": "2fa01342",
   "metadata": {},
   "outputs": [
    {
     "data": {
      "text/plain": [
       "(245, 14)"
      ]
     },
     "execution_count": 299,
     "metadata": {},
     "output_type": "execute_result"
    }
   ],
   "source": [
    "df.shape"
   ]
  },
  {
   "cell_type": "code",
   "execution_count": 300,
   "id": "673a83ba",
   "metadata": {},
   "outputs": [],
   "source": [
    "df = df.rename(columns={'Classes  ': 'Classes'})\n",
    "df = df.rename(columns={' RH': 'RH'})\n",
    "df = df.rename(columns={' Ws': 'WS'})\n",
    "df = df.rename(columns={'Rain ': 'Rain'})"
   ]
  },
  {
   "cell_type": "code",
   "execution_count": 301,
   "id": "9114a289",
   "metadata": {},
   "outputs": [
    {
     "data": {
      "text/plain": [
       "array(['3.9', '2.7', '1.7', '7', '10.9', '13.5', '10.5', '12.6', '15.8',\n",
       "       '17.7', '6.7', '4.4', '3', '2.2', '1.6', '2.4', '5.3', '5.1',\n",
       "       '8.4', '9.7', '11.5', '14.9', '18.3', '21.6', '25.8', '29.7',\n",
       "       '23.8', '28.3', '2.9', '2.8', '5.7', '9.1', '12.5', '12.1', '15.4',\n",
       "       '7.4', '5.8', '8.1', '9.2', '11.7', '5.9', '8.3', '11.1', '14.2',\n",
       "       '18.2', '16.5', '22.4', '21.7', '14.7', '18.5', '23.9', '29.4',\n",
       "       '32.1', '35', '37.4', '41.2', '4.7', '5.5', '8.2', '17.2', '14.1',\n",
       "       '17.9', '21.9', '25.5', '20.7', '24.4', '27.2', '22', '17.6',\n",
       "       '22.9', '27.5', '31.3', '34.7', '38.8', '43.1', '47.5', '50.9',\n",
       "       '54.7', '57.1', '59.3', '62.9', '67.4', '1.8', '1.1', '5.6', '2.6',\n",
       "       '3.7', '1.4', '4.2', '7.7', '11.3', '16', '19.2', '12.9', '9.6',\n",
       "       '6.2', '9', '6.8', nan, 'BUI', '6.5', '9.3', '10.7', '7.3', '13.1',\n",
       "       '18', '21.2', '6.1', '7.1', '4.1', '3.8', '9.9', '12.7', '16.4',\n",
       "       '20.8', '27.1', '17.8', '3.3', '7.8', '10.3', '18.7', '16.7',\n",
       "       '13.7', '9.4', '10.4', '20.9', '27.7', '32.6', '39.5', '44',\n",
       "       '46.5', '11.4', '11.8', '15.7', '19.5', '10.6', '16.9', '23.5',\n",
       "       '6.9', '11', '18.4', '17.5', '22.3', '19', '24.2', '30.4', '35.9',\n",
       "       '35.5', '38.1', '41.3', '45.5', '50.2', '54.9', '59.5', '64', '68',\n",
       "       '30.6', '35.7', '39.3', '4', '6', '3.5', '6.4', '10', '4.6', '6.6',\n",
       "       '12.4', '14.3', '26.2', '28.2', '28.9', '32.4', '36', '11.9',\n",
       "       '3.4', '4.8'], dtype=object)"
      ]
     },
     "execution_count": 301,
     "metadata": {},
     "output_type": "execute_result"
    }
   ],
   "source": [
    "df['BUI'].unique()"
   ]
  },
  {
   "cell_type": "code",
   "execution_count": 302,
   "id": "9049acd3",
   "metadata": {},
   "outputs": [],
   "source": [
    "df = df[df['BUI'] != 'BUI']\n",
    "df = df[df['day'] != 'Sidi-Bel Abbes Region Dataset']\n"
   ]
  },
  {
   "cell_type": "code",
   "execution_count": 303,
   "id": "d704370d",
   "metadata": {},
   "outputs": [],
   "source": [
    "df = df.dropna(subset=['Classes'])"
   ]
  },
  {
   "cell_type": "code",
   "execution_count": 304,
   "id": "0c60b5dd",
   "metadata": {},
   "outputs": [
    {
     "data": {
      "text/plain": [
       "array(['3.9', '2.7', '1.7', '7', '10.9', '13.5', '10.5', '12.6', '15.8',\n",
       "       '17.7', '6.7', '4.4', '3', '2.2', '1.6', '2.4', '5.3', '5.1',\n",
       "       '8.4', '9.7', '11.5', '14.9', '18.3', '21.6', '25.8', '29.7',\n",
       "       '23.8', '28.3', '2.9', '2.8', '5.7', '9.1', '12.5', '12.1', '15.4',\n",
       "       '7.4', '5.8', '8.1', '9.2', '11.7', '5.9', '8.3', '11.1', '14.2',\n",
       "       '18.2', '16.5', '22.4', '21.7', '14.7', '18.5', '23.9', '29.4',\n",
       "       '32.1', '35', '37.4', '41.2', '4.7', '5.5', '8.2', '17.2', '14.1',\n",
       "       '17.9', '21.9', '25.5', '20.7', '24.4', '27.2', '22', '17.6',\n",
       "       '22.9', '27.5', '31.3', '34.7', '38.8', '43.1', '47.5', '50.9',\n",
       "       '54.7', '57.1', '59.3', '62.9', '67.4', '1.8', '1.1', '5.6', '2.6',\n",
       "       '3.7', '1.4', '4.2', '7.7', '11.3', '16', '19.2', '12.9', '9.6',\n",
       "       '6.2', '9', '6.8', '6.5', '9.3', '10.7', '7.3', '13.1', '18',\n",
       "       '21.2', '6.1', '7.1', '4.1', '3.8', '9.9', '12.7', '16.4', '20.8',\n",
       "       '27.1', '17.8', '3.3', '7.8', '10.3', '18.7', '16.7', '13.7',\n",
       "       '9.4', '20.9', '27.7', '32.6', '39.5', '44', '46.5', '11.4',\n",
       "       '11.8', '15.7', '19.5', '10.6', '16.9', '23.5', '6.9', '11',\n",
       "       '18.4', '17.5', '22.3', '19', '24.2', '30.4', '35.9', '35.5',\n",
       "       '38.1', '41.3', '45.5', '50.2', '54.9', '59.5', '64', '68', '30.6',\n",
       "       '35.7', '39.3', '4', '6', '3.5', '6.4', '10', '4.6', '6.6', '12.4',\n",
       "       '14.3', '26.2', '28.2', '28.9', '32.4', '36', '11.9', '3.4', '4.8'],\n",
       "      dtype=object)"
      ]
     },
     "execution_count": 304,
     "metadata": {},
     "output_type": "execute_result"
    }
   ],
   "source": [
    "df['BUI'].unique()"
   ]
  },
  {
   "cell_type": "code",
   "execution_count": 305,
   "id": "ea06ffda",
   "metadata": {},
   "outputs": [
    {
     "data": {
      "text/plain": [
       "(242, 14)"
      ]
     },
     "execution_count": 305,
     "metadata": {},
     "output_type": "execute_result"
    }
   ],
   "source": [
    "df.shape"
   ]
  },
  {
   "cell_type": "code",
   "execution_count": 306,
   "id": "6cbf8f1f",
   "metadata": {},
   "outputs": [],
   "source": [
    "df = df.apply(lambda x: x.str.strip())"
   ]
  },
  {
   "cell_type": "code",
   "execution_count": 307,
   "id": "f735dd1c",
   "metadata": {},
   "outputs": [
    {
     "name": "stdout",
     "output_type": "stream",
     "text": [
      "['02' '03' '04' '05' '06' '07' '08' '09' '10' '11' '12' '13' '14' '15'\n",
      " '16' '17' '18' '19' '20' '21' '22' '23' '24' '25' '26' '27' '28' '29'\n",
      " '30' '01' '31']\n",
      "['06' '07' '08' '09']\n",
      "['2012']\n",
      "['29' '26' '25' '27' '31' '33' '30' '28' '32' '34' '35' '36' '37' '22'\n",
      " '24' '38' '39' '40' '42']\n",
      "['61' '82' '89' '77' '67' '54' '73' '88' '79' '65' '81' '84' '78' '80'\n",
      " '55' '62' '66' '64' '53' '47' '50' '68' '75' '76' '63' '69' '70' '59'\n",
      " '48' '45' '60' '51' '52' '58' '86' '74' '71' '49' '57' '44' '41' '42'\n",
      " '90' '87' '72' '46' '37' '36' '56' '43' '83' '29' '34' '33' '35' '39'\n",
      " '31' '21' '40' '24' '38' '26']\n",
      "['13' '22' '16' '14' '15' '12' '19' '21' '20' '17' '18' '26' '11' '10' '9'\n",
      " '8' '6' '29']\n",
      "['1.3' '13.1' '2.5' '0' '0.2' '1.2' '0.5' '3.1' '0.7' '0.6' '0.3' '0.1'\n",
      " '0.4' '1' '1.4' '0.8' '16.8' '7.2' '10.1' '3.8' '0.9' '1.8' '4.6' '8.3'\n",
      " '5.8' '4' '2' '4.7' '8.7' '4.5' '1.1' '1.7' '2.2' '6' '1.9' '2.9' '4.1'\n",
      " '6.5' '4.4']\n",
      "['64.4' '47.1' '28.6' '64.8' '82.6' '88.2' '86.6' '52.9' '73.2' '84.5'\n",
      " '84' '50' '59' '49.4' '36.1' '37.3' '56.9' '79.9' '59.8' '81' '79.1'\n",
      " '81.4' '85.9' '86.7' '86.8' '89' '89.1' '88.7' '59.9' '55.7' '63.1'\n",
      " '80.1' '87' '80' '85.6' '66.6' '81.1' '75.1' '81.8' '73.9' '60.7' '72.6'\n",
      " '82.8' '85.4' '88.1' '73.4' '68.2' '70' '84.3' '89.2' '90.3' '86.5'\n",
      " '87.2' '78.8' '78' '76.6' '85' '86.4' '77.1' '87.4' '88.9' '81.3' '82.4'\n",
      " '80.2' '89.3' '89.4' '88.3' '88.6' '89.5' '85.8' '84.9' '90.1' '72.7'\n",
      " '52.5' '46' '30.5' '42.6' '68.4' '80.8' '75.8' '69.6' '62' '56.1' '58.5'\n",
      " '71' '40.9' '47.4' '44.9' '78.1' '87.7' '83.8' '87.8' '77.8' '73.7'\n",
      " '68.3' '48.6' '82' '85.7' '77.5' '45' '57.1' '48.7' '79.4' '83.7' '71.4'\n",
      " '90.6' '72.3' '53.4' '66.8' '62.2' '65.5' '64.6' '60.2' '86.2' '78.3'\n",
      " '74.2' '85.3' '86' '92.5' '79.7' '63.7' '87.6' '84.7' '88' '90.5' '82.3'\n",
      " '74.8' '85.2' '84.6' '86.1' '89.9' '93.9' '91.5' '87.3' '72.8' '73.8'\n",
      " '87.5' '93.3' '93.7' '93.8' '70.5' '69.7' '91.7' '94.2' '93' '91.9'\n",
      " '83.9' '92' '96' '94.3' '82.7' '91.2' '92.1' '92.2' '91' '79.2' '37.9'\n",
      " '75.4' '82.2' '73.5' '66.1' '64.5' '83.3' '82.5' '83.1' '59.5' '84.2'\n",
      " '79.5' '61.3' '41.1' '45.9' '67.3']\n",
      "['4.1' '2.5' '1.3' '3' '5.8' '9.9' '12.1' '7.9' '9.5' '12.5' '13.8' '6.7'\n",
      " '4.6' '1.7' '1.1' '1.9' '4.5' '3.4' '6.3' '7' '8.2' '11.2' '14.2' '17.8'\n",
      " '21.6' '25.5' '18.4' '22.9' '2.4' '2.6' '7.6' '10.9' '9.7' '7.7' '6'\n",
      " '8.1' '7.8' '5.2' '9.4' '12' '12.3' '18.5' '16.4' '10.5' '9.6' '17.1'\n",
      " '22.2' '24.4' '26.7' '28.5' '31.9' '4.8' '5.7' '11.1' '13' '15.5' '11.3'\n",
      " '14.8' '18.6' '21.7' '15.6' '19' '11.7' '16' '20' '23.2' '25.9' '29.6'\n",
      " '33.5' '37.6' '40.5' '43.9' '45.6' '47' '50.2' '54.2' '25.2' '8.7' '0.7'\n",
      " '1.2' '3.6' '3.2' '2.1' '2.2' '0.9' '6.4' '9.8' '13.5' '16.5' '10.6'\n",
      " '5.5' '8.3' '7.1' '2.9' '2.7' '8.4' '8.5' '13.3' '18.2' '21.3' '11.4'\n",
      " '7.2' '4.2' '3.9' '4.4' '3.8' '10' '12.8' '20.9' '27.2' '17.9' '13.6'\n",
      " '18.7' '8' '12.6' '18' '19.4' '21.1' '23.9' '27.8' '32.7' '39.6' '44.2'\n",
      " '46.6' '10.8' '11.8' '15.7' '19.5' '23.8' '28.3' '23' '23.6' '11' '15.8'\n",
      " '22.5' '16.9' '22.3' '22.6' '30.3' '35.9' '34.4' '36.9' '41.1' '46.1'\n",
      " '51.3' '56.3' '61.3' '65.9' '37' '20.7' '24.8' '4' '3.3' '6.6' '4.7'\n",
      " '6.5' '11.5' '21.2' '25.8' '24.9' '26.1' '29.4' '11.9' '3.5' '4.3']\n",
      "['7.6' '7.1' '6.9' '14.2' '22.2' '30.5' '38.3' '38.8' '46.3' '54.3' '61.4'\n",
      " '17' '7.8' '7.4' '8' '16' '27.1' '31.6' '39.5' '47.7' '55.8' '63.8'\n",
      " '71.8' '80.3' '88.5' '84.4' '92.8' '8.6' '8.3' '9.2' '18.5' '27.9' '37'\n",
      " '40.4' '49.8' '9.3' '18.7' '27.7' '37.2' '22.9' '25.5' '34.1' '43.1'\n",
      " '52.8' '62.1' '71.5' '79.9' '71.3' '79.7' '88.7' '98.6' '108.5' '117.8'\n",
      " '127' '136' '145.7' '10.2' '10' '19.8' '29.7' '39.1' '48.6' '47' '57'\n",
      " '67' '77' '75.1' '85.1' '94.7' '92.5' '90.4' '100.7' '110.9' '120.9'\n",
      " '130.6' '141.1' '151.3' '161.5' '171.3' '181.3' '190.6' '200.2' '210.4'\n",
      " '220.4' '180.4' '8.7' '7.5' '7' '15.7' '24' '32.2' '30.1' '8.4' '8.9'\n",
      " '16.6' '7.3' '24.3' '33.1' '41.3' '49.3' '57.9' '41.4' '30.4' '15.2'\n",
      " '7.7' '16.3' '24.9' '8.8' '8.2' '15.4' '17.6' '26.3' '28.9' '14.7' '22.5'\n",
      " '37.8' '18.4' '25.6' '34.5' '43.3' '52.4' '36.7' '8.5' '17.8' '27.3'\n",
      " '36.8' '46.4' '45.1' '35.4' '9.7' '9.9' '9.5' '19.4' '10.4' '24.1' '42.3'\n",
      " '51.6' '61.1' '71' '80.6' '90.1' '99' '56.6' '15.9' '19.7' '28.3' '37.6'\n",
      " '47.2' '57.1' '67.2' '10.5' '21.4' '32.1' '42.7' '52.5' '9.1' '9.8'\n",
      " '20.2' '30.9' '41.5' '55.5' '54.2' '65.1' '76.4' '86.8' '96.8' '107'\n",
      " '117.1' '127.5' '137.7' '147.7' '157.5' '167.2' '177.3' '166' '149.2'\n",
      " '159.1' '168.2' '26.6' '17.7' '26.1' '25.2' '33.4' '50.2' '59.2' '63.3'\n",
      " '77.8' '86' '88' '97.3' '106.3' '115.6' '28.1' '36.1' '44.5' '7.9' '16.5']\n",
      "['1' '0.3' '0' '1.2' '3.1' '6.4' '5.6' '0.4' '1.3' '4' '4.8' '0.5' '0.7'\n",
      " '2.5' '0.9' '2.6' '2.4' '3.3' '5.7' '6.7' '9.2' '7.6' '2.2' '7.2' '1.1'\n",
      " '0.8' '2.7' '2.8' '6' '1.5' '3' '1.4' '3.2' '4.6' '7.7' '5.2' '1.8' '10'\n",
      " '8.7' '4.7' '6.8' '2' '1.7' '5.5' '6.9' '7.4' '7.1' '5.9' '3.7' '9.7'\n",
      " '8.8' '9.9' '10.4' '9' '8.2' '4.4' '7.3' '12.5' '0.6' '0.2' '0.1' '2.1'\n",
      " '1.9' '6.2' '7.8' '4.5' '5.4' '8.4' '13.4' '5' '1.6' '4.9' '7' '8' '11.7'\n",
      " '11.3' '4.3' '4.1' '8.3' '4.2' '10.9' '9.5' '18.5' '13.2' '13.8' '17.2'\n",
      " '15.7' '19' '9.6' '16.6' '15.5' '7.5' '10.8' '3.5' '16' '3.8' '5.1'\n",
      " '11.5' '12.2' '14.3' '13.1' '8.1' '9.8' '9.1' '14.2' '11.2']\n",
      "['3.9' '2.7' '1.7' '7' '10.9' '13.5' '10.5' '12.6' '15.8' '17.7' '6.7'\n",
      " '4.4' '3' '2.2' '1.6' '2.4' '5.3' '5.1' '8.4' '9.7' '11.5' '14.9' '18.3'\n",
      " '21.6' '25.8' '29.7' '23.8' '28.3' '2.9' '2.8' '5.7' '9.1' '12.5' '12.1'\n",
      " '15.4' '7.4' '5.8' '8.1' '9.2' '11.7' '5.9' '8.3' '11.1' '14.2' '18.2'\n",
      " '16.5' '22.4' '21.7' '14.7' '18.5' '23.9' '29.4' '32.1' '35' '37.4'\n",
      " '41.2' '4.7' '5.5' '8.2' '17.2' '14.1' '17.9' '21.9' '25.5' '20.7' '24.4'\n",
      " '27.2' '22' '17.6' '22.9' '27.5' '31.3' '34.7' '38.8' '43.1' '47.5'\n",
      " '50.9' '54.7' '57.1' '59.3' '62.9' '67.4' '1.8' '1.1' '5.6' '2.6' '3.7'\n",
      " '1.4' '4.2' '7.7' '11.3' '16' '19.2' '12.9' '9.6' '6.2' '9' '6.8' '6.5'\n",
      " '9.3' '10.7' '7.3' '13.1' '18' '21.2' '6.1' '7.1' '4.1' '3.8' '9.9'\n",
      " '12.7' '16.4' '20.8' '27.1' '17.8' '3.3' '7.8' '10.3' '18.7' '16.7'\n",
      " '13.7' '9.4' '20.9' '27.7' '32.6' '39.5' '44' '46.5' '11.4' '11.8' '15.7'\n",
      " '19.5' '10.6' '16.9' '23.5' '6.9' '11' '18.4' '17.5' '22.3' '19' '24.2'\n",
      " '30.4' '35.9' '35.5' '38.1' '41.3' '45.5' '50.2' '54.9' '59.5' '64' '68'\n",
      " '30.6' '35.7' '39.3' '4' '6' '3.5' '6.4' '10' '4.6' '6.6' '12.4' '14.3'\n",
      " '26.2' '28.2' '28.9' '32.4' '36' '11.9' '3.4' '4.8']\n",
      "['0.4' '0.1' '0' '0.5' '2.5' '7.2' '7.1' '0.3' '0.9' '5.6' '0.2' '1.4'\n",
      " '2.2' '2.3' '3.8' '7.5' '8.4' '10.6' '15' '13.9' '3.9' '12.9' '1.7' '4.9'\n",
      " '6.8' '3.2' '8' '0.6' '3.4' '0.8' '3.6' '6' '10.9' '4' '8.8' '2.8' '2.1'\n",
      " '1.3' '7.3' '15.3' '11.3' '11.9' '10.7' '15.7' '6.1' '2.6' '9.9' '11.6'\n",
      " '12.1' '4.2' '10.2' '6.3' '14.6' '16.1' '17.2' '16.8' '18.4' '20.4'\n",
      " '22.3' '20.9' '20.3' '13.7' '13.2' '19.9' '30.2' '5.9' '7.7' '9.7' '8.3'\n",
      " '0.7' '4.1' '1' '3.1' '1.9' '10' '16.7' '1.2' '5.3' '6.7' '9.5' '12'\n",
      " '6.4' '5.2' '3' '9.6' '4.7' '14.1' '9.1' '13' '17.3' '30' '25.4' '16.3'\n",
      " '9' '14.5' '13.5' '19.5' '12.6' '12.7' '21.6' '18.8' '10.5' '5.5' '14.8'\n",
      " '24' '26.3' '12.2' '18.1' '24.5' '26.9' '31.1' '30.3' '26.1' '16' '19.4'\n",
      " '2.7' '3.7' '10.3' '5.7' '9.8' '19.3' '17.5' '15.4' '15.2' '6.5']\n",
      "['not fire' 'fire']\n"
     ]
    }
   ],
   "source": [
    "for col in df.columns:\n",
    "    print(df[col].unique())"
   ]
  },
  {
   "cell_type": "code",
   "execution_count": 308,
   "id": "b17547b0",
   "metadata": {
    "scrolled": true
   },
   "outputs": [
    {
     "data": {
      "text/plain": [
       "day            0\n",
       "month          0\n",
       "year           0\n",
       "Temperature    0\n",
       "RH             0\n",
       "WS             0\n",
       "Rain           0\n",
       "FFMC           0\n",
       "DMC            0\n",
       "DC             0\n",
       "ISI            0\n",
       "BUI            0\n",
       "FWI            0\n",
       "Classes        0\n",
       "dtype: int64"
      ]
     },
     "execution_count": 308,
     "metadata": {},
     "output_type": "execute_result"
    }
   ],
   "source": [
    "df.isnull().sum()"
   ]
  },
  {
   "cell_type": "code",
   "execution_count": 309,
   "id": "f9687e7e",
   "metadata": {},
   "outputs": [
    {
     "name": "stdout",
     "output_type": "stream",
     "text": [
      "day\n",
      "month\n",
      "year\n",
      "Temperature\n",
      "RH\n",
      "WS\n",
      "Rain\n",
      "FFMC\n",
      "DMC\n",
      "DC\n",
      "ISI\n",
      "BUI\n",
      "FWI\n",
      "Classes\n"
     ]
    }
   ],
   "source": [
    "for col in df.columns:\n",
    "    print(col)"
   ]
  },
  {
   "cell_type": "code",
   "execution_count": 310,
   "id": "68db2a32",
   "metadata": {},
   "outputs": [
    {
     "data": {
      "text/plain": [
       "(242, 14)"
      ]
     },
     "execution_count": 310,
     "metadata": {},
     "output_type": "execute_result"
    }
   ],
   "source": [
    "df.shape"
   ]
  },
  {
   "cell_type": "code",
   "execution_count": 311,
   "id": "2f6ff439",
   "metadata": {},
   "outputs": [],
   "source": [
    "#df[df.columns.difference(['Classes'])] = df[df.columns.difference(['Classes'])].astype(float)\n",
    "\n",
    "fire_data = {'not fire': 0, 'fire': 1}\n",
    "df['Classes'] = df['Classes'].replace(fire_data)"
   ]
  },
  {
   "cell_type": "code",
   "execution_count": 312,
   "id": "483f534e",
   "metadata": {},
   "outputs": [],
   "source": [
    "def convert_to_float(x):\n",
    "    if isinstance(x, str):\n",
    "        return float(x)\n",
    "    else:\n",
    "        return x"
   ]
  },
  {
   "cell_type": "code",
   "execution_count": 313,
   "id": "905f5917",
   "metadata": {},
   "outputs": [],
   "source": [
    "df = df.applymap(convert_to_float)"
   ]
  },
  {
   "cell_type": "code",
   "execution_count": 314,
   "id": "904965df",
   "metadata": {},
   "outputs": [
    {
     "name": "stdout",
     "output_type": "stream",
     "text": [
      "<class 'pandas.core.frame.DataFrame'>\n",
      "Int64Index: 242 entries, 0 to 244\n",
      "Data columns (total 14 columns):\n",
      " #   Column       Non-Null Count  Dtype  \n",
      "---  ------       --------------  -----  \n",
      " 0   day          242 non-null    float64\n",
      " 1   month        242 non-null    float64\n",
      " 2   year         242 non-null    float64\n",
      " 3   Temperature  242 non-null    float64\n",
      " 4   RH           242 non-null    float64\n",
      " 5   WS           242 non-null    float64\n",
      " 6   Rain         242 non-null    float64\n",
      " 7   FFMC         242 non-null    float64\n",
      " 8   DMC          242 non-null    float64\n",
      " 9   DC           242 non-null    float64\n",
      " 10  ISI          242 non-null    float64\n",
      " 11  BUI          242 non-null    float64\n",
      " 12  FWI          242 non-null    float64\n",
      " 13  Classes      242 non-null    int64  \n",
      "dtypes: float64(13), int64(1)\n",
      "memory usage: 28.4 KB\n"
     ]
    }
   ],
   "source": [
    "df.info()"
   ]
  },
  {
   "cell_type": "code",
   "execution_count": 315,
   "id": "c581530d",
   "metadata": {},
   "outputs": [],
   "source": [
    "df = df.drop('day', axis=1)\n",
    "df = df.drop('year', axis=1)\n",
    "df = df.drop('RH', axis=1)\n",
    "df = df.drop('WS', axis=1)\n",
    "df = df.drop('month', axis=1)\n",
    "df = df.drop('ISI', axis=1)\n",
    "df = df.drop('BUI', axis=1)\n",
    "df = df.drop('DMC', axis=1)\n",
    "df = df.drop('Rain', axis=1)\n",
    "df = df.drop('Classes', axis=1)\n",
    "df = df.drop('DC', axis=1)"
   ]
  },
  {
   "cell_type": "code",
   "execution_count": 316,
   "id": "c813fb8f",
   "metadata": {},
   "outputs": [
    {
     "name": "stdout",
     "output_type": "stream",
     "text": [
      "Temperature\n",
      "FFMC\n",
      "FWI\n"
     ]
    }
   ],
   "source": [
    "for col in df.columns:\n",
    "    print(col)"
   ]
  },
  {
   "cell_type": "code",
   "execution_count": 317,
   "id": "0ff070b5",
   "metadata": {},
   "outputs": [
    {
     "data": {
      "text/plain": [
       "<AxesSubplot:>"
      ]
     },
     "execution_count": 317,
     "metadata": {},
     "output_type": "execute_result"
    },
    {
     "data": {
      "image/png": "[encoded data removed]",
      "text/plain": [
       "<Figure size 720x576 with 2 Axes>"
      ]
     },
     "metadata": {},
     "output_type": "display_data"
    }
   ],
   "source": [
    "sns.set(rc={'figure.figsize':(10,8)})\n",
    "sns.heatmap(df.corr(),annot=True)"
   ]
  },
  {
   "cell_type": "code",
   "execution_count": 318,
   "id": "692d2ee3",
   "metadata": {},
   "outputs": [
    {
     "data": {
      "text/plain": [
       "<seaborn.axisgrid.PairGrid at 0x1d52aa3a1f0>"
      ]
     },
     "execution_count": 318,
     "metadata": {},
     "output_type": "execute_result"
    },
    {
     "data": {
      "image/png": "[encoded data removed]",
      "text/plain": [
       "<Figure size 540x540 with 12 Axes>"
      ]
     },
     "metadata": {},
     "output_type": "display_data"
    }
   ],
   "source": [
    "sns.pairplot(df)"
   ]
  },
  {
   "cell_type": "code",
   "execution_count": 319,
   "id": "1fdca062",
   "metadata": {},
   "outputs": [
    {
     "data": {
      "image/png": "[encoded data removed]",
      "text/plain": [
       "<Figure size 720x576 with 1 Axes>"
      ]
     },
     "metadata": {},
     "output_type": "display_data"
    }
   ],
   "source": [
    "df.boxplot()\n",
    "plt.show()"
   ]
  },
  {
   "cell_type": "code",
   "execution_count": 320,
   "id": "caeb0d21",
   "metadata": {},
   "outputs": [],
   "source": [
    "from sklearn.preprocessing import LabelEncoder, OneHotEncoder\n",
    "ohe = OneHotEncoder()"
   ]
  },
  {
   "cell_type": "code",
   "execution_count": 321,
   "id": "bc585994",
   "metadata": {},
   "outputs": [],
   "source": [
    "X = df.drop(['Temperature'], axis=1)\n",
    "y = df['Temperature']"
   ]
  },
  {
   "cell_type": "code",
   "execution_count": 322,
   "id": "49a6baeb",
   "metadata": {},
   "outputs": [],
   "source": [
    "X_train, X_test, y_train, y_test = train_test_split(X, y, test_size=0.2, random_state=42)"
   ]
  },
  {
   "cell_type": "code",
   "execution_count": null,
   "id": "1b3ce95f",
   "metadata": {},
   "outputs": [],
   "source": []
  },
  {
   "cell_type": "code",
   "execution_count": 323,
   "id": "cd53f289",
   "metadata": {},
   "outputs": [
    {
     "data": {
      "text/plain": [
       "['FFMC', 'FWI']"
      ]
     },
     "execution_count": 323,
     "metadata": {},
     "output_type": "execute_result"
    }
   ],
   "source": [
    "l=[]\n",
    "for col in df.columns:\n",
    "    if col == 'Temperature':\n",
    "        continue\n",
    "    l.append(col)\n",
    "l"
   ]
  },
  {
   "cell_type": "code",
   "execution_count": null,
   "id": "78729d4e",
   "metadata": {},
   "outputs": [],
   "source": []
  },
  {
   "cell_type": "code",
   "execution_count": 324,
   "id": "f23ed1f5",
   "metadata": {},
   "outputs": [],
   "source": [
    "from sklearn.preprocessing import StandardScaler\n",
    "scaler=StandardScaler()"
   ]
  },
  {
   "cell_type": "code",
   "execution_count": 325,
   "id": "1eeb0e0d",
   "metadata": {},
   "outputs": [
    {
     "data": {
      "text/plain": [
       "StandardScaler()"
      ]
     },
     "execution_count": 325,
     "metadata": {},
     "output_type": "execute_result"
    }
   ],
   "source": [
    "scaler"
   ]
  },
  {
   "cell_type": "code",
   "execution_count": 326,
   "id": "42cb1c16",
   "metadata": {},
   "outputs": [],
   "source": [
    "X_train=scaler.fit_transform(X_train)"
   ]
  },
  {
   "cell_type": "code",
   "execution_count": 327,
   "id": "81a73dbc",
   "metadata": {},
   "outputs": [],
   "source": [
    "X_test=scaler.transform(X_test)"
   ]
  },
  {
   "cell_type": "code",
   "execution_count": 328,
   "id": "fd6b136d",
   "metadata": {},
   "outputs": [
    {
     "data": {
      "text/plain": [
       "array([[-1.9850758 , -0.93203107],\n",
       "       [ 0.99751787,  3.00965832],\n",
       "       [ 0.2176654 , -0.55352448],\n",
       "       [ 0.7717711 ,  0.73861873],\n",
       "       [ 0.7717711 ,  1.70446315],\n",
       "       [ 0.86754246,  1.05186557],\n",
       "       [ 0.49813865,  0.77777459],\n",
       "       [ 0.85386084,  0.30790433],\n",
       "       [ 0.67599974,  0.22959262],\n",
       "       [ 0.45025298, -0.43605691],\n",
       "       [ 0.88806489,  1.06491752],\n",
       "       [ 0.7102038 ,  0.34706019],\n",
       "       [-0.54850546, -0.86677132],\n",
       "       [ 0.5870692 , -0.3055374 ],\n",
       "       [ 0.42973054, -0.21417373],\n",
       "       [ 0.66915893,  0.34706019],\n",
       "       [-2.06716554, -0.93203107],\n",
       "       [ 0.7717711 ,  0.56894336],\n",
       "       [ 0.48445703, -0.26638154],\n",
       "       [ 0.73072623,  0.42537189],\n",
       "       [-2.06716554, -0.93203107],\n",
       "       [ 0.79913435,  0.32095628],\n",
       "       [ 1.1411749 ,  2.48758025],\n",
       "       [ 0.73072623,  1.24764485],\n",
       "       [-1.21206414, -0.89287522],\n",
       "       [-2.231345  , -0.93203107],\n",
       "       [-0.637436  , -0.85371936],\n",
       "       [ 0.71704461,  0.4775797 ],\n",
       "       [ 0.72388542, -0.00534251],\n",
       "       [ 0.60759163,  0.52978751],\n",
       "       [ 0.12189404, -0.81456351],\n",
       "       [ 0.78545272,  0.62115117],\n",
       "       [ 0.47761622, -0.20112178],\n",
       "       [ 0.60075082, -0.05755032],\n",
       "       [ 0.71704461,  0.75167069],\n",
       "       [ 0.99067706,  3.11407393],\n",
       "       [ 0.5255019 , -0.25332959],\n",
       "       [-0.99315818, -0.87982327],\n",
       "       [-1.27363144, -0.89287522],\n",
       "       [ 0.16293891, -0.52742057],\n",
       "       [ 0.75808948,  0.73861873],\n",
       "       [-0.25435058, -0.84066741],\n",
       "       [-1.3078355 , -0.90592717],\n",
       "       [-0.03544462, -0.82761546],\n",
       "       [ 0.04664512, -0.81456351],\n",
       "       [-0.64427681, -0.67099204],\n",
       "       [ 0.2176654 , -0.72319985],\n",
       "       [-0.89054601, -0.89287522],\n",
       "       [ 1.05224436,  1.50868388],\n",
       "       [ 0.79913435,  0.96050191],\n",
       "       [ 0.28607351, -0.50131667],\n",
       "       [ 0.98383625,  0.98660581],\n",
       "       [ 1.0180403 ,  1.45647607],\n",
       "       [ 0.80597516,  1.29985265],\n",
       "       [-0.23382814, -0.84066741],\n",
       "       [ 0.78545272,  0.86913825],\n",
       "       [ 0.7717711 ,  0.84303435],\n",
       "       [ 0.32027756, -0.54047253],\n",
       "       [ 0.04664512, -0.84066741],\n",
       "       [-1.11629278, -0.89287522],\n",
       "       [-0.90422764, -0.89287522],\n",
       "       [-3.35323804, -0.94508303],\n",
       "       [ 0.80597516,  1.15628119],\n",
       "       [ 0.53234271, -0.16196593],\n",
       "       [-1.21206414, -0.90592717],\n",
       "       [ 0.99751787,  1.87413853],\n",
       "       [ 0.69652218,  0.29485238],\n",
       "       [-0.3295995 , -0.61878424],\n",
       "       [-1.71828417, -0.90592717],\n",
       "       [ 0.55970595,  0.84303435],\n",
       "       [ 0.99067706,  2.56589196],\n",
       "       [ 0.78545272,  1.58699559],\n",
       "       [-1.0684071 , -0.89287522],\n",
       "       [ 0.54602433,  0.0990731 ],\n",
       "       [ 0.04664512, -0.78845961],\n",
       "       [ 0.02612268, -0.84066741],\n",
       "       [ 0.56654677,  0.03381335],\n",
       "       [-0.00808137, -0.82761546],\n",
       "       [-0.89738683, -0.89287522],\n",
       "       [-2.06716554, -0.93203107],\n",
       "       [-1.88930445, -0.91897912],\n",
       "       [ 0.1560981 , -0.55352448],\n",
       "       [ 0.1560981 , -0.43605691],\n",
       "       [-1.23942738, -0.90592717],\n",
       "       [ 0.3408    , -0.61878424],\n",
       "       [-1.49937821, -0.91897912],\n",
       "       [ 0.16977972, -0.72319985],\n",
       "       [-1.19154171, -0.90592717],\n",
       "       [ 0.66231812,  1.18238509],\n",
       "       [-0.82897871, -0.89287522],\n",
       "       [-0.06964867, -0.84066741],\n",
       "       [-0.74004817, -0.86677132],\n",
       "       [-0.42537085, -0.84066741],\n",
       "       [ 0.38868568, -0.52742057],\n",
       "       [ 1.07276679,  0.81693044],\n",
       "       [ 0.7717711 ,  0.63420312],\n",
       "       [ 0.73072623,  0.69946288],\n",
       "       [ 0.62811407, -0.14891398],\n",
       "       [-0.34328112, -0.89287522],\n",
       "       [ 0.48445703, -0.12281007],\n",
       "       [-0.17226084, -0.82761546],\n",
       "       [-1.97823499, -0.93203107],\n",
       "       [ 0.62127326,  0.15128091],\n",
       "       [ 0.79913435,  0.94744996],\n",
       "       [ 0.16293891, -0.52742057],\n",
       "       [ 0.78545272,  1.71751511],\n",
       "       [ 0.23818783, -0.65794009],\n",
       "       [ 1.0180403 ,  1.33900851],\n",
       "       [ 0.71704461,  0.4775797 ],\n",
       "       [-0.63059519, -0.87982327],\n",
       "       [ 1.10013004,  1.60004754],\n",
       "       [-1.15733765, -0.87982327],\n",
       "       [ 0.57338758, -0.07060227],\n",
       "       [ 0.47077541,  0.00770944],\n",
       "       [-0.87686439, -0.87982327],\n",
       "       [-2.23818582, -0.94508303],\n",
       "       [ 0.45709379,  0.00770944],\n",
       "       [-0.36380355, -0.82761546],\n",
       "       [ 0.33395919, -0.59268033],\n",
       "       [-0.48693815, -0.84066741],\n",
       "       [ 0.75124867,  0.39926799],\n",
       "       [ 0.53234271,  0.20348872],\n",
       "       [ 0.51866109, -0.3316413 ],\n",
       "       [ 0.75124867,  1.45647607],\n",
       "       [ 0.64179569, -0.05755032],\n",
       "       [-1.69092092, -0.90592717],\n",
       "       [ 0.94963219,  2.37011269],\n",
       "       [ 0.42288973, -0.12281007],\n",
       "       [-2.16293689, -0.93203107],\n",
       "       [ 0.7717711 ,  1.78277486],\n",
       "       [-0.28171382, -0.85371936],\n",
       "       [ 0.37500405, -0.46216082],\n",
       "       [-0.33644031, -0.39690106],\n",
       "       [-0.30223625, -0.82761546],\n",
       "       [-1.93034931, -0.93203107],\n",
       "       [ 0.65547731,  1.10407338],\n",
       "       [ 0.91542814,  2.46147635],\n",
       "       [ 0.88806489,  1.2345929 ],\n",
       "       [ 0.1560981 , -0.7623557 ],\n",
       "       [ 0.47761622,  0.05991725],\n",
       "       [ 0.64179569,  0.38621604],\n",
       "       [-2.7170426 , -0.94508303],\n",
       "       [-1.65671687, -0.90592717],\n",
       "       [ 1.25746869,  2.18738536],\n",
       "       [ 0.10821242, -0.78845961],\n",
       "       [ 0.50497947, -0.43605691],\n",
       "       [ 0.79229353,  1.05186557],\n",
       "       [ 0.68968137, -0.17501788],\n",
       "       [-0.28855463, -0.57962838],\n",
       "       [ 0.41604892,  0.22959262],\n",
       "       [-0.26119139, -0.85371936],\n",
       "       [ 0.57338758,  0.64725507],\n",
       "       [ 0.96331381,  0.71251483],\n",
       "       [-2.49813664, -0.94508303],\n",
       "       [-0.15173841, -0.84066741],\n",
       "       [ 0.84017921,  1.31290461],\n",
       "       [ 0.53234271,  0.4514758 ],\n",
       "       [ 0.25871026, -0.42300496],\n",
       "       [ 0.85386084,  2.99660637],\n",
       "       [ 0.25871026, -0.44910886],\n",
       "       [ 0.61443244,  0.60809922],\n",
       "       [ 0.92910976,  2.25264512],\n",
       "       [-0.00808137, -0.77540765],\n",
       "       [ 0.77861191,  1.03881362],\n",
       "       [-0.54166464, -0.86677132],\n",
       "       [ 1.13433409,  1.87413853],\n",
       "       [ 0.03296349, -0.69709594],\n",
       "       [-0.75372979, -0.86677132],\n",
       "       [ 0.50497947, -0.26638154],\n",
       "       [ 1.11381166,  1.57394364],\n",
       "       [-2.08768797, -0.93203107],\n",
       "       [-0.52114221, -0.77540765],\n",
       "       [ 0.5870692 , -0.00534251],\n",
       "       [ 0.80597516,  0.36011214],\n",
       "       [-0.95211331, -0.87982327],\n",
       "       [-2.51181826, -0.94508303],\n",
       "       [-1.47201496, -0.91897912],\n",
       "       [ 0.29975513, -0.72319985],\n",
       "       [ 0.80597516,  1.65225535],\n",
       "       [ 0.81281597,  1.41732022],\n",
       "       [ 0.32711837, -0.12281007],\n",
       "       [ 0.31343675, -0.61878424],\n",
       "       [ 0.79229353,  1.14322923],\n",
       "       [-1.40360685, -0.91897912],\n",
       "       [-0.70584411, -0.87982327],\n",
       "       [ 0.10137161, -0.64488814],\n",
       "       [ 0.66915893, -0.17501788],\n",
       "       [ 0.25186945, -0.39690106],\n",
       "       [ 0.03296349, -0.84066741],\n",
       "       [-2.8401772 , -0.94508303],\n",
       "       [-3.22326262, -0.94508303],\n",
       "       [ 0.7717711 ,  0.77777459],\n",
       "       [-0.4527341 , -0.87982327]])"
      ]
     },
     "execution_count": 328,
     "metadata": {},
     "output_type": "execute_result"
    }
   ],
   "source": [
    "X_train"
   ]
  },
  {
   "cell_type": "code",
   "execution_count": 329,
   "id": "eded2cc0",
   "metadata": {},
   "outputs": [
    {
     "data": {
      "text/plain": [
       "array([[ 0.62811407,  0.43842385],\n",
       "       [ 0.61443244, -0.01839446],\n",
       "       [ 0.68284056, -0.10975812],\n",
       "       [ 0.17662053, -0.17501788],\n",
       "       [ 0.53234271, -0.09670617],\n",
       "       [ 0.34764081,  0.05991725],\n",
       "       [ 0.79913435,  0.4514758 ],\n",
       "       [ 0.14241647, -0.65794009],\n",
       "       [ 0.47077541, -0.21417373],\n",
       "       [-0.2680322 , -0.85371936],\n",
       "       [ 0.35448162, -0.47521277],\n",
       "       [ 0.10821242, -0.14891398],\n",
       "       [ 0.75808948,  0.33400823],\n",
       "       [ 1.11381166,  2.97050246],\n",
       "       [ 0.81281597,  1.96550219],\n",
       "       [-0.19278327, -0.84066741],\n",
       "       [ 0.12873485, -0.44910886],\n",
       "       [-2.75808746, -0.94508303],\n",
       "       [ 0.60759163,  0.0990731 ],\n",
       "       [ 0.54602433, -0.16196593],\n",
       "       [ 0.56654677, -0.3055374 ],\n",
       "       [ 0.23134702, -0.65794009],\n",
       "       [ 0.80597516,  0.05991725],\n",
       "       [-1.49937821, -0.90592717],\n",
       "       [ 1.10697085,  1.78277486],\n",
       "       [ 0.88122408,  0.89524215],\n",
       "       [ 0.43657135, -0.01839446],\n",
       "       [ 0.64179569,  0.43842385],\n",
       "       [-2.39552447, -0.94508303],\n",
       "       [ 0.88122408,  1.01270972],\n",
       "       [ 0.69652218,  0.13822896],\n",
       "       [-0.78793385, -0.89287522],\n",
       "       [ 0.77861191,  1.01270972],\n",
       "       [ 0.08084917, -0.82761546],\n",
       "       [-1.21890495, -0.89287522],\n",
       "       [ 0.41604892, -0.54047253],\n",
       "       [-0.12437516, -0.82761546],\n",
       "       [ 0.42973054, -0.22722569],\n",
       "       [-1.05472548, -0.89287522],\n",
       "       [-2.1697777 , -0.91897912],\n",
       "       [ 0.17662053, -0.39690106],\n",
       "       [ 0.55286514, -0.40995301],\n",
       "       [ 0.01244106, -0.57962838],\n",
       "       [-1.41728847, -0.91897912],\n",
       "       [ 0.97699544,  1.10407338],\n",
       "       [-0.03544462, -0.60573228],\n",
       "       [ 0.58022839,  0.24264457],\n",
       "       [-0.75372979, -0.87982327],\n",
       "       [ 0.14241647, -0.85371936]])"
      ]
     },
     "execution_count": 329,
     "metadata": {},
     "output_type": "execute_result"
    }
   ],
   "source": [
    "X_test"
   ]
  },
  {
   "cell_type": "code",
   "execution_count": 330,
   "id": "7674f7ed",
   "metadata": {},
   "outputs": [],
   "source": [
    "from sklearn.linear_model import LinearRegression"
   ]
  },
  {
   "cell_type": "code",
   "execution_count": 331,
   "id": "16d9feef",
   "metadata": {},
   "outputs": [],
   "source": [
    "regression=LinearRegression()"
   ]
  },
  {
   "cell_type": "code",
   "execution_count": 332,
   "id": "94b0f6bb",
   "metadata": {},
   "outputs": [
    {
     "data": {
      "text/plain": [
       "LinearRegression()"
      ]
     },
     "execution_count": 332,
     "metadata": {},
     "output_type": "execute_result"
    }
   ],
   "source": [
    "regression"
   ]
  },
  {
   "cell_type": "code",
   "execution_count": 333,
   "id": "2e98cb8a",
   "metadata": {},
   "outputs": [
    {
     "data": {
      "text/plain": [
       "LinearRegression()"
      ]
     },
     "execution_count": 333,
     "metadata": {},
     "output_type": "execute_result"
    }
   ],
   "source": [
    "regression.fit(X_train,y_train)"
   ]
  },
  {
   "cell_type": "code",
   "execution_count": 334,
   "id": "89ea45ea",
   "metadata": {},
   "outputs": [
    {
     "name": "stdout",
     "output_type": "stream",
     "text": [
      "[2.20145543 0.59163896]\n"
     ]
    }
   ],
   "source": [
    "## print the coefficients and the intercept\n",
    "print(regression.coef_)"
   ]
  },
  {
   "cell_type": "code",
   "execution_count": 335,
   "id": "c45c2fa5",
   "metadata": {},
   "outputs": [
    {
     "name": "stdout",
     "output_type": "stream",
     "text": [
      "32.13989637305699\n"
     ]
    }
   ],
   "source": [
    "print(regression.intercept_)"
   ]
  },
  {
   "cell_type": "code",
   "execution_count": 336,
   "id": "6e6cfc4b",
   "metadata": {},
   "outputs": [],
   "source": [
    "## PRediction for the test data\n",
    "reg_pred=regression.predict(X_test)"
   ]
  },
  {
   "cell_type": "code",
   "execution_count": 337,
   "id": "275a351b",
   "metadata": {},
   "outputs": [
    {
     "data": {
      "text/plain": [
       "array([33.78205012, 33.48165913, 33.57820224, 32.4251712 , 33.25460998,\n",
       "       32.9406615 , 34.16626569, 32.0641569 , 33.04957393, 31.0447418 ,\n",
       "       32.63911747, 32.29001788, 34.00640885, 36.34936808, 35.09214217,\n",
       "       31.21812099, 32.15759011, 25.50894182, 33.53609778, 33.24611925,\n",
       "       33.206356  , 32.25993353, 33.94966413, 28.30310027, 35.63160242,\n",
       "       34.60953204, 33.09010587, 33.8121696 , 26.30710809, 34.67903043,\n",
       "       33.75504054, 29.87703537, 34.45313432, 31.82823267, 28.92827169,\n",
       "       32.73604492, 31.37644045, 32.95149344, 29.28970547, 26.81952362,\n",
       "       32.29389647, 33.11446017, 31.82435408, 28.47609512, 34.9439211 ,\n",
       "       31.70349181, 33.56080129, 29.96005611, 31.94832625])"
      ]
     },
     "execution_count": 337,
     "metadata": {},
     "output_type": "execute_result"
    }
   ],
   "source": [
    "reg_pred"
   ]
  },
  {
   "cell_type": "code",
   "execution_count": 338,
   "id": "cd6c6282",
   "metadata": {},
   "outputs": [
    {
     "data": {
      "text/plain": [
       "Text(0, 0.5, 'Test Predicted Data')"
      ]
     },
     "execution_count": 338,
     "metadata": {},
     "output_type": "execute_result"
    },
    {
     "data": {
      "image/png": "[encoded data removed]",
      "text/plain": [
       "<Figure size 720x576 with 1 Axes>"
      ]
     },
     "metadata": {},
     "output_type": "display_data"
    }
   ],
   "source": [
    "plt.scatter(y_test,reg_pred)\n",
    "plt.xlabel(\"Test Truth Data\")\n",
    "plt.ylabel(\"Test Predicted Data\")"
   ]
  },
  {
   "cell_type": "code",
   "execution_count": 339,
   "id": "09de1e0a",
   "metadata": {},
   "outputs": [],
   "source": [
    "## residuals\n",
    "residuals=y_test-reg_pred"
   ]
  },
  {
   "cell_type": "code",
   "execution_count": 340,
   "id": "d108a0b4",
   "metadata": {},
   "outputs": [
    {
     "data": {
      "text/plain": [
       "24    -2.782050\n",
       "6     -3.481659\n",
       "154   -0.578202\n",
       "212    2.574829\n",
       "240   -3.254610\n",
       "202    2.059339\n",
       "193    4.833734\n",
       "152    1.935843\n",
       "9     -2.049574\n",
       "113    0.955258\n",
       "45    -3.639117\n",
       "211    2.709982\n",
       "229   -2.006409\n",
       "173   -0.349368\n",
       "82     0.907858\n",
       "163    2.781879\n",
       "234    1.842410\n",
       "15     4.491058\n",
       "66    -1.536098\n",
       "129    1.753881\n",
       "33    -0.206356\n",
       "19    -2.259934\n",
       "108   -1.949664\n",
       "30    -1.303100\n",
       "187    2.368398\n",
       "167   -0.609532\n",
       "10    -7.090106\n",
       "73    -0.812170\n",
       "93    -1.307108\n",
       "157   -0.679030\n",
       "111   -2.755041\n",
       "219    0.122965\n",
       "25    -0.453134\n",
       "60     4.171767\n",
       "18     1.071728\n",
       "128    2.263955\n",
       "96    -2.376440\n",
       "198    2.048507\n",
       "139    1.710295\n",
       "242    0.180476\n",
       "75     3.706104\n",
       "117   -2.114460\n",
       "112   -0.824354\n",
       "16     2.523905\n",
       "197    2.056079\n",
       "67     0.296508\n",
       "170   -0.560801\n",
       "38     3.039944\n",
       "243   -7.948326\n",
       "Name: Temperature, dtype: float64"
      ]
     },
     "execution_count": 340,
     "metadata": {},
     "output_type": "execute_result"
    }
   ],
   "source": [
    "residuals"
   ]
  },
  {
   "cell_type": "code",
   "execution_count": 341,
   "id": "c069cd29",
   "metadata": {},
   "outputs": [
    {
     "data": {
      "text/plain": [
       "<seaborn.axisgrid.FacetGrid at 0x1d53095e850>"
      ]
     },
     "execution_count": 341,
     "metadata": {},
     "output_type": "execute_result"
    },
    {
     "data": {
      "image/png": "[encoded data removed]",
      "text/plain": [
       "<Figure size 360x360 with 1 Axes>"
      ]
     },
     "metadata": {},
     "output_type": "display_data"
    }
   ],
   "source": [
    "sns.displot(residuals,kind=\"kde\")"
   ]
  },
  {
   "cell_type": "code",
   "execution_count": 342,
   "id": "eac21c9a",
   "metadata": {},
   "outputs": [
    {
     "data": {
      "text/plain": [
       "<matplotlib.collections.PathCollection at 0x1d530cb17f0>"
      ]
     },
     "execution_count": 342,
     "metadata": {},
     "output_type": "execute_result"
    },
    {
     "data": {
      "image/png": "[encoded data removed]",
      "text/plain": [
       "<Figure size 720x576 with 1 Axes>"
      ]
     },
     "metadata": {},
     "output_type": "display_data"
    }
   ],
   "source": [
    "## SCatter plot with predictions and residual\n",
    "##uniform distribution\n",
    "plt.scatter(reg_pred,residuals)"
   ]
  },
  {
   "cell_type": "code",
   "execution_count": 343,
   "id": "67096af5",
   "metadata": {},
   "outputs": [
    {
     "name": "stdout",
     "output_type": "stream",
     "text": [
      "7.1939646545142\n",
      "2.1496601048976878\n",
      "2.6821567169936587\n"
     ]
    }
   ],
   "source": [
    "## Performance Metrics\n",
    "from sklearn.metrics import mean_squared_error\n",
    "from sklearn.metrics import mean_absolute_error\n",
    "print(mean_squared_error(y_test,reg_pred))\n",
    "print(mean_absolute_error(y_test,reg_pred))\n",
    "print(np.sqrt(mean_squared_error(y_test,reg_pred)))"
   ]
  },
  {
   "cell_type": "code",
   "execution_count": 344,
   "id": "2f5778ea",
   "metadata": {},
   "outputs": [],
   "source": [
    "#R square and adjusted R square"
   ]
  },
  {
   "cell_type": "code",
   "execution_count": 345,
   "id": "442d5480",
   "metadata": {},
   "outputs": [
    {
     "name": "stdout",
     "output_type": "stream",
     "text": [
      "0.29717166603643397\n"
     ]
    }
   ],
   "source": [
    "from sklearn.metrics import r2_score\n",
    "score=r2_score(y_test,reg_pred)\n",
    "print(score)\n"
   ]
  },
  {
   "cell_type": "code",
   "execution_count": 346,
   "id": "fa7b6db6",
   "metadata": {},
   "outputs": [
    {
     "data": {
      "text/plain": [
       "0.2666139123858441"
      ]
     },
     "execution_count": 346,
     "metadata": {},
     "output_type": "execute_result"
    }
   ],
   "source": [
    "## Adjusted R square\n",
    "#display adjusted R-squared\n",
    "1 - (1-score)*(len(y_test)-1)/(len(y_test)-X_test.shape[1]-1)"
   ]
  },
  {
   "cell_type": "code",
   "execution_count": 347,
   "id": "51d6dce9",
   "metadata": {},
   "outputs": [],
   "source": [
    "### Make a function for Linear Regression with default values\n",
    "def linreg_model(xtrain, xtest):\n",
    "    ### Initialize algorithm\n",
    "    linreg = LinearRegression()\n",
    "\n",
    "    ### Fit the data\n",
    "    linreg.fit(xtrain, y_train)\n",
    "    \n",
    "    ### Evaluate the model\n",
    "    y_pred = linreg.predict(xtest)\n",
    "    \n",
    "    print(\"R2:\", r2_score(y_pred, y_test))\n",
    "    print(\"MAE:\", mean_absolute_error(y_pred, y_test))\n",
    "    print(\"MSE:\", mean_squared_error(y_pred, y_test))\n",
    "    print(\"RMSE:\", np.sqrt(mean_squared_error(y_pred, y_test)))\n",
    "    \n",
    "    f, ax = plt.subplots(figsize=(11, 9))\n",
    "    plt.scatter(y_pred, y_test)\n",
    "    plt.xlabel(\"Predicted\")\n",
    "    plt.ylabel(\"Actual\")\n",
    "    plt.title(\"Actual vs Predicted\")\n",
    "    \n",
    "    return {\"R2\": r2_score(y_pred, y_test) * 100, \"MAE\": mean_absolute_error(y_pred, y_test), \n",
    "            \"MSE\": mean_squared_error(y_pred, y_test), \"RMSE\": np.sqrt(mean_squared_error(y_pred, y_test))}"
   ]
  },
  {
   "cell_type": "code",
   "execution_count": 348,
   "id": "8786d75e",
   "metadata": {},
   "outputs": [
    {
     "name": "stdout",
     "output_type": "stream",
     "text": [
      "R2: -0.3330737562424011\n",
      "MAE: 2.1496601048976878\n",
      "MSE: 7.1939646545142\n",
      "RMSE: 2.6821567169936587\n"
     ]
    },
    {
     "data": {
      "image/png": "[encoded data removed]",
      "text/plain": [
       "<Figure size 792x648 with 1 Axes>"
      ]
     },
     "metadata": {},
     "output_type": "display_data"
    }
   ],
   "source": [
    "### Predict and get results\n",
    "linreg_all_results = linreg_model(X_train, X_test)\n"
   ]
  },
  {
   "cell_type": "code",
   "execution_count": null,
   "id": "6536b277",
   "metadata": {},
   "outputs": [],
   "source": []
  }
 ],
 "metadata": {
  "kernelspec": {
   "display_name": "Python 3 (ipykernel)",
   "language": "python",
   "name": "python3"
  },
  "language_info": {
   "codemirror_mode": {
    "name": "ipython",
    "version": 3
   },
   "file_extension": ".py",
   "mimetype": "text/x-python",
   "name": "python",
   "nbconvert_exporter": "python",
   "pygments_lexer": "ipython3",
   "version": "3.9.7"
  }
 },
 "nbformat": 4,
 "nbformat_minor": 5
}
